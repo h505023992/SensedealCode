{
 "cells": [
  {
   "cell_type": "code",
   "execution_count": 42,
   "id": "c4677f88",
   "metadata": {},
   "outputs": [],
   "source": [
    "import torch\n",
    "import torch.nn as nn\n",
    "import torch.nn.functional as F\n",
    "from torch.nn.utils.rnn import pad_sequence\n",
    "from transformers import RobertaTokenizer, RobertaModel,  RobertaForSequenceClassification"
   ]
  },
  {
   "cell_type": "code",
   "execution_count": 2,
   "id": "6627c912",
   "metadata": {},
   "outputs": [],
   "source": [
    "tokenizer = RobertaTokenizer.from_pretrained(\"roberta-base\")"
   ]
  },
  {
   "cell_type": "code",
   "execution_count": 22,
   "id": "df16aca7",
   "metadata": {},
   "outputs": [
    {
     "name": "stderr",
     "output_type": "stream",
     "text": [
      "Some weights of the model checkpoint at roberta-base were not used when initializing RobertaModel: ['lm_head.bias', 'lm_head.dense.bias', 'lm_head.dense.weight', 'lm_head.layer_norm.weight', 'lm_head.decoder.weight', 'lm_head.layer_norm.bias']\n",
      "- This IS expected if you are initializing RobertaModel from the checkpoint of a model trained on another task or with another architecture (e.g. initializing a BertForSequenceClassification model from a BertForPreTraining model).\n",
      "- This IS NOT expected if you are initializing RobertaModel from the checkpoint of a model that you expect to be exactly identical (initializing a BertForSequenceClassification model from a BertForSequenceClassification model).\n"
     ]
    }
   ],
   "source": [
    "robertamodel =RobertaModel.from_pretrained('roberta-base')"
   ]
  },
  {
   "cell_type": "code",
   "execution_count": 23,
   "id": "90639509",
   "metadata": {},
   "outputs": [
    {
     "name": "stdout",
     "output_type": "stream",
     "text": [
      "tensor([[    0,   118,  4157,    47,     2,     1,     1,     1,     1,     1,\n",
      "             1,     1,     1,     1,     1],\n",
      "        [    0,   118,   657,    47,     2,     1,     1,     1,     1,     1,\n",
      "             1,     1,     1,     1,     1],\n",
      "        [    0,   118,    33,    41, 15162,     2,     1,     1,     1,     1,\n",
      "             1,     1,     1,     1,     1],\n",
      "        [    0,   102,   313,    16,   608,    39,  3685,     2,     1,     1,\n",
      "             1,     1,     1,     1,     1],\n",
      "        [    0,   260,   693,    16,   608,    39,  3685,     2,     1,     1,\n",
      "             1,     1,     1,     1,     1],\n",
      "        [    0, 12196, 26536,   328,     2,     1,     1,     1,     1,     1,\n",
      "             1,     1,     1,     1,     1],\n",
      "        [    0,  3684,    16,   275,     2,     1,     1,     1,     1,     1,\n",
      "             1,     1,     1,     1,     1],\n",
      "        [    0,  1694,  9943,     7,   349,    97,     2,     1,     1,     1,\n",
      "             1,     1,     1,     1,     1],\n",
      "        [    0,   260, 15162,    10,   183,     6,   489,    10,  3299,   409,\n",
      "             2,     1,     1,     1,     1],\n",
      "        [    0,   405,    16,    10,  1296,     7,   542,  7384,  2389,     5,\n",
      "          1836,     9,    80, 42168,     2]])\n"
     ]
    }
   ],
   "source": [
    "ref = [\"i hate you\",\"i love you\",\"i have an apple\",\n",
    "      \"a man is doing his task\",\"an woman is doing his task\",\"what fuck!\",\n",
    "      \"All is best\",\"we belong to each other\",\"an apple a day, keep a doctor away\",\n",
    "       \"it is a test to unbanance the size of two corpus\"\n",
    "      ]\n",
    "ref_input_ids = pad_sequence([torch.tensor(tokenizer.encode(item))  for item in ref],batch_first=True,\n",
    "                         padding_value=tokenizer.pad_token_id)\n",
    "print(ref_input_ids)"
   ]
  },
  {
   "cell_type": "code",
   "execution_count": 77,
   "id": "95273159",
   "metadata": {},
   "outputs": [
    {
     "name": "stdout",
     "output_type": "stream",
     "text": [
      "torch.int64\n"
     ]
    }
   ],
   "source": [
    "print(ref_input_ids.dtype)"
   ]
  },
  {
   "cell_type": "code",
   "execution_count": 75,
   "id": "b86b46cb",
   "metadata": {},
   "outputs": [],
   "source": [
    "ref_output =robertamodel(ref_input_ids)"
   ]
  },
  {
   "cell_type": "code",
   "execution_count": 51,
   "id": "3a18fce7",
   "metadata": {},
   "outputs": [
    {
     "name": "stdout",
     "output_type": "stream",
     "text": [
      "BaseModelOutputWithPoolingAndCrossAttentions(last_hidden_state=tensor([[[-0.0231,  0.0858, -0.0508,  ..., -0.1480, -0.0463, -0.0396],\n",
      "         [ 0.0033, -0.1636, -0.2311,  ...,  0.0705, -0.0411, -0.0622],\n",
      "         [ 0.0919,  0.0255,  0.1190,  ...,  0.1001, -0.0074, -0.2072],\n",
      "         ...,\n",
      "         [ 0.0373,  0.0792, -0.1062,  ..., -0.4763,  0.0509, -0.0147],\n",
      "         [ 0.0373,  0.0792, -0.1062,  ..., -0.4763,  0.0509, -0.0147],\n",
      "         [ 0.0373,  0.0792, -0.1062,  ..., -0.4763,  0.0509, -0.0147]],\n",
      "\n",
      "        [[-0.0344,  0.0929, -0.0547,  ..., -0.1331, -0.0475, -0.0297],\n",
      "         [-0.0433, -0.1727, -0.1718,  ...,  0.0806, -0.0417,  0.0471],\n",
      "         [ 0.0448,  0.0110,  0.1917,  ...,  0.1734, -0.0259, -0.0411],\n",
      "         ...,\n",
      "         [ 0.0200,  0.0745, -0.1042,  ..., -0.4673, -0.0379,  0.0738],\n",
      "         [ 0.0200,  0.0745, -0.1042,  ..., -0.4673, -0.0379,  0.0738],\n",
      "         [ 0.0200,  0.0745, -0.1042,  ..., -0.4673, -0.0379,  0.0738]],\n",
      "\n",
      "        [[-0.0425,  0.0870, -0.0404,  ..., -0.1532, -0.0498, -0.0220],\n",
      "         [-0.0723, -0.2668, -0.1588,  ...,  0.0965, -0.1549,  0.1311],\n",
      "         [-0.0584,  0.1075,  0.0799,  ..., -0.0322, -0.0586, -0.1180],\n",
      "         ...,\n",
      "         [-0.0010,  0.0580, -0.0208,  ..., -0.5402, -0.0623,  0.0701],\n",
      "         [-0.0010,  0.0580, -0.0208,  ..., -0.5402, -0.0623,  0.0701],\n",
      "         [-0.0010,  0.0580, -0.0208,  ..., -0.5402, -0.0623,  0.0701]],\n",
      "\n",
      "        ...,\n",
      "\n",
      "        [[-0.0550,  0.0889, -0.0322,  ..., -0.0972, -0.0623,  0.0009],\n",
      "         [-0.1550, -0.1259, -0.0591,  ...,  0.1461, -0.0154,  0.0153],\n",
      "         [ 0.1528,  0.0273,  0.0484,  ..., -0.2059, -0.1257, -0.0825],\n",
      "         ...,\n",
      "         [-0.0413,  0.0375, -0.0358,  ..., -0.3300, -0.0903,  0.0698],\n",
      "         [-0.0413,  0.0375, -0.0358,  ..., -0.3300, -0.0903,  0.0698],\n",
      "         [-0.0413,  0.0375, -0.0358,  ..., -0.3300, -0.0903,  0.0698]],\n",
      "\n",
      "        [[-0.0710,  0.0885, -0.0060,  ..., -0.0478, -0.0671, -0.0251],\n",
      "         [-0.0872, -0.1625,  0.0126,  ...,  0.2866, -0.0312,  0.0567],\n",
      "         [-0.0218,  0.0126,  0.0529,  ...,  0.0823, -0.1267,  0.0906],\n",
      "         ...,\n",
      "         [-0.0311, -0.0048,  0.0698,  ..., -0.1464, -0.0691,  0.0585],\n",
      "         [-0.0311, -0.0048,  0.0698,  ..., -0.1464, -0.0691,  0.0585],\n",
      "         [-0.0311, -0.0048,  0.0698,  ..., -0.1464, -0.0691,  0.0585]],\n",
      "\n",
      "        [[-0.0256,  0.0587, -0.0407,  ..., -0.0785, -0.0366, -0.0217],\n",
      "         [ 0.0164, -0.2762, -0.0645,  ..., -0.1756,  0.0607, -0.1115],\n",
      "         [ 0.3293,  0.1280,  0.1422,  ..., -0.1677,  0.0619,  0.0170],\n",
      "         ...,\n",
      "         [ 0.2619, -0.1116, -0.1441,  ..., -0.1433, -0.0701, -0.0123],\n",
      "         [ 0.2172, -0.0275,  0.0282,  ..., -0.1736, -0.0665,  0.0613],\n",
      "         [-0.0140,  0.0488, -0.0774,  ..., -0.1178, -0.0265, -0.0468]]],\n",
      "       grad_fn=<NativeLayerNormBackward0>), pooler_output=tensor([[ 0.0287, -0.2403, -0.2220,  ..., -0.1493, -0.0164, -0.1072],\n",
      "        [ 0.0284, -0.2432, -0.2126,  ..., -0.1373, -0.0314, -0.1098],\n",
      "        [ 0.0066, -0.2271, -0.1998,  ..., -0.1234, -0.0444, -0.0871],\n",
      "        ...,\n",
      "        [-0.0077, -0.2285, -0.2205,  ..., -0.1238, -0.0483, -0.0930],\n",
      "        [-0.0117, -0.2285, -0.2299,  ..., -0.1344, -0.0586, -0.1092],\n",
      "        [-0.0008, -0.2177, -0.2251,  ..., -0.1180, -0.0612, -0.1007]],\n",
      "       grad_fn=<TanhBackward0>), hidden_states=None, past_key_values=None, attentions=None, cross_attentions=None)\n"
     ]
    }
   ],
   "source": [
    "print(ref_output)"
   ]
  },
  {
   "cell_type": "code",
   "execution_count": 61,
   "id": "770cc728",
   "metadata": {},
   "outputs": [],
   "source": [
    "l1 = nn.Linear(768,64)\n",
    "active_l1 = F.relu\n",
    "l2 = nn.Linear(64,1)\n",
    "active_l2 = F.sigmoid"
   ]
  },
  {
   "cell_type": "code",
   "execution_count": 62,
   "id": "5e42eb68",
   "metadata": {},
   "outputs": [
    {
     "name": "stderr",
     "output_type": "stream",
     "text": [
      "/home/hqh/.conda/envs/torch1.10/lib/python3.9/site-packages/torch/nn/functional.py:1806: UserWarning: nn.functional.sigmoid is deprecated. Use torch.sigmoid instead.\n",
      "  warnings.warn(\"nn.functional.sigmoid is deprecated. Use torch.sigmoid instead.\")\n"
     ]
    }
   ],
   "source": [
    "out = active_l2 (l2(active_l1(l1(ref_output[1]))))"
   ]
  },
  {
   "cell_type": "code",
   "execution_count": 63,
   "id": "69377b49",
   "metadata": {},
   "outputs": [
    {
     "name": "stdout",
     "output_type": "stream",
     "text": [
      "tensor([[0.4871],\n",
      "        [0.4868],\n",
      "        [0.4873],\n",
      "        [0.4873],\n",
      "        [0.4866],\n",
      "        [0.4870],\n",
      "        [0.4865],\n",
      "        [0.4889],\n",
      "        [0.4873],\n",
      "        [0.4886]], grad_fn=<SigmoidBackward0>)\n"
     ]
    }
   ],
   "source": [
    "print(out)"
   ]
  },
  {
   "cell_type": "code",
   "execution_count": 64,
   "id": "330d200e",
   "metadata": {},
   "outputs": [
    {
     "name": "stdout",
     "output_type": "stream",
     "text": [
      "tensor(-0.7188, grad_fn=<MeanBackward0>)\n"
     ]
    }
   ],
   "source": [
    "loss = torch.log(out).mean()\n",
    "print(loss)"
   ]
  },
  {
   "cell_type": "code",
   "execution_count": 71,
   "id": "710160ca",
   "metadata": {},
   "outputs": [
    {
     "name": "stdout",
     "output_type": "stream",
     "text": [
      "tensor(0.7188, grad_fn=<BinaryCrossEntropyBackward0>)\n"
     ]
    }
   ],
   "source": [
    "c = nn.BCELoss()\n",
    "label = torch.ones(len(out))\n",
    "print(c(out.squeeze(1),label))"
   ]
  },
  {
   "cell_type": "code",
   "execution_count": 79,
   "id": "cffce320",
   "metadata": {},
   "outputs": [
    {
     "name": "stderr",
     "output_type": "stream",
     "text": [
      "Some weights of the model checkpoint at roberta-base were not used when initializing RobertaForSequenceClassification: ['lm_head.bias', 'lm_head.dense.bias', 'roberta.pooler.dense.weight', 'lm_head.dense.weight', 'lm_head.layer_norm.weight', 'lm_head.decoder.weight', 'lm_head.layer_norm.bias', 'roberta.pooler.dense.bias']\n",
      "- This IS expected if you are initializing RobertaForSequenceClassification from the checkpoint of a model trained on another task or with another architecture (e.g. initializing a BertForSequenceClassification model from a BertForPreTraining model).\n",
      "- This IS NOT expected if you are initializing RobertaForSequenceClassification from the checkpoint of a model that you expect to be exactly identical (initializing a BertForSequenceClassification model from a BertForSequenceClassification model).\n",
      "Some weights of RobertaForSequenceClassification were not initialized from the model checkpoint at roberta-base and are newly initialized: ['classifier.out_proj.weight', 'classifier.out_proj.bias', 'classifier.dense.bias', 'classifier.dense.weight']\n",
      "You should probably TRAIN this model on a down-stream task to be able to use it for predictions and inference.\n"
     ]
    }
   ],
   "source": [
    "classfication = RobertaForSequenceClassification.from_pretrained('roberta-base',num_labels = 3)"
   ]
  },
  {
   "cell_type": "code",
   "execution_count": 83,
   "id": "e5a50e50",
   "metadata": {},
   "outputs": [],
   "source": [
    "ref_output =classfication(ref_input_ids)"
   ]
  },
  {
   "cell_type": "code",
   "execution_count": 85,
   "id": "4bc3100e",
   "metadata": {},
   "outputs": [
    {
     "name": "stdout",
     "output_type": "stream",
     "text": [
      "tensor([[ 0.0502, -0.0635,  0.0252],\n",
      "        [ 0.0439, -0.0607,  0.0218],\n",
      "        [ 0.0499, -0.0577,  0.0295],\n",
      "        [ 0.0595, -0.0695,  0.0293],\n",
      "        [ 0.0548, -0.0642,  0.0225],\n",
      "        [ 0.0517, -0.0749,  0.0349],\n",
      "        [ 0.0443, -0.0631,  0.0227],\n",
      "        [ 0.0625, -0.0632,  0.0319],\n",
      "        [ 0.0733, -0.0698,  0.0247],\n",
      "        [ 0.0703, -0.0631,  0.0451]], grad_fn=<AddmmBackward0>)\n"
     ]
    }
   ],
   "source": [
    "print(ref_output.logits)"
   ]
  },
  {
   "cell_type": "code",
   "execution_count": 90,
   "id": "eee9f80e",
   "metadata": {},
   "outputs": [
    {
     "name": "stdout",
     "output_type": "stream",
     "text": [
      "tensor([0, 0, 0, 0, 0, 0, 0, 0, 0, 0])\n"
     ]
    }
   ],
   "source": [
    "print(torch.argmax(ref_output.logits,dim=-1))"
   ]
  },
  {
   "cell_type": "code",
   "execution_count": 97,
   "id": "03741c2d",
   "metadata": {},
   "outputs": [
    {
     "name": "stdout",
     "output_type": "stream",
     "text": [
      "tensor(0)\n"
     ]
    }
   ],
   "source": [
    "x = torch.tensor([[0,1,0],[1,0,0]])\n",
    "y = torch.argmax(x,dim=-1)\n",
    "x_hat = torch.tensor([[0.8,0.1,0.1],[0.1,0.8,0.1]])\n",
    "y_hat = torch.argmax(x_hat,dim=-1)\n",
    "acc = (y==y_hat).sum()\n",
    "print(acc)"
   ]
  },
  {
   "cell_type": "code",
   "execution_count": 101,
   "id": "dae7b88a",
   "metadata": {},
   "outputs": [
    {
     "data": {
      "text/plain": [
       "'sad0'"
      ]
     },
     "execution_count": 101,
     "metadata": {},
     "output_type": "execute_result"
    }
   ],
   "source": [
    "'sad'+str(acc.item())"
   ]
  },
  {
   "cell_type": "code",
   "execution_count": null,
   "id": "0de6a307",
   "metadata": {},
   "outputs": [],
   "source": []
  }
 ],
 "metadata": {
  "kernelspec": {
   "display_name": "Python 3",
   "language": "python",
   "name": "python3"
  },
  "language_info": {
   "codemirror_mode": {
    "name": "ipython",
    "version": 3
   },
   "file_extension": ".py",
   "mimetype": "text/x-python",
   "name": "python",
   "nbconvert_exporter": "python",
   "pygments_lexer": "ipython3",
   "version": "3.9.7"
  }
 },
 "nbformat": 4,
 "nbformat_minor": 5
}
