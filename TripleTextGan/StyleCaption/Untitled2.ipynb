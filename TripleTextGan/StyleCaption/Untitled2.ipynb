{
 "cells": [
  {
   "cell_type": "code",
   "execution_count": 1,
   "id": "6cb5ab6f",
   "metadata": {},
   "outputs": [],
   "source": [
    "from openpyxl import load_workbook\n",
    "from dateutil.parser import parse\n",
    "import xlwt\n",
    "import xlrd"
   ]
  },
  {
   "cell_type": "code",
   "execution_count": 2,
   "id": "6a8645e1",
   "metadata": {},
   "outputs": [
    {
     "data": {
      "text/plain": [
       "'2237-08-21 00:00:00'"
      ]
     },
     "execution_count": 2,
     "metadata": {},
     "output_type": "execute_result"
    }
   ],
   "source": [
    "xlrd.xldate.xldate_as_datetime(123321, 0).strftime(\"%Y-%m-%d %H:%M:%S\")"
   ]
  },
  {
   "cell_type": "code",
   "execution_count": 3,
   "id": "ff0c1c38",
   "metadata": {},
   "outputs": [],
   "source": [
    "Namelist=[\n",
    " '陈峰',   \n",
    "'陈峰',\n",
    "'张汶彬',\n",
    "'翁铭澳',\n",
    "'张艺君',\n",
    "'施国鑫',\n",
    "'唐磊',\n",
    "'谢竹涵',\n",
    "'王炜',\n",
    "'刘晨',\n",
    "'徐昕怡',\n",
    "'黄祺赫',\n",
    "'彭银佳',\n",
    "'王庆震',\n",
    "'洪安顺',\n",
    "'刘威',\n",
    "'陈诗豪',\n",
    "'张志萌',\n",
    "'施恺文',\n",
    "'程鸿娟',\n",
    "'陈姝晓',\n",
    "'杜尤伟',\n",
    "'秦龙辰',\n",
    "'沈依婷',\n",
    "'赵瑞',\n",
    "'吴伟',\n",
    "'于致远',\n",
    "'王越',\n",
    "'何宇翔',\n",
    "'杨洋',\n",
    "'杨佳男',\n",
    "'汤伟',\n",
    "'张一帆',\n",
    "'黄云帆',\n",
    "'马杰',\n",
    "'严志超',\n",
    "'戴兴杰',\n",
    "'伏茜玉',\n",
    "'徐旻芮',\n",
    "'胡振龙',\n",
    "'徐芷菡',\n",
    "'蒋进',\n",
    "\"李添豪\",\n",
    "\"潘宇\",\n",
    "\"陈俊晖\",\n",
    "\"白江南\",\n",
    "\"胡俊雄\",\n",
    "\"徐超逸\"\n",
    "]"
   ]
  },
  {
   "cell_type": "code",
   "execution_count": 4,
   "id": "acd846a9",
   "metadata": {},
   "outputs": [],
   "source": [
    "workbook = load_workbook(u'C:/Users/qhuang/Documents/Tencent Files/505023992/FileRecv/计算机学院 5月7日-5月11日第七轮常态化核酸检测应检尽检学生名单.xlsx')  #找到需要xlsx文件的位置"
   ]
  },
  {
   "cell_type": "code",
   "execution_count": 5,
   "id": "5167a33b",
   "metadata": {},
   "outputs": [
    {
     "name": "stdout",
     "output_type": "stream",
     "text": [
      "43\n"
     ]
    }
   ],
   "source": [
    "booksheet = workbook.active         #获取当前活跃的sheet,默认是第一个sheet\n",
    "rows = booksheet.rows\n",
    "columns = booksheet.columns\n",
    "# 迭代所有的行\n",
    "hesuan = []\n",
    "for row in rows:\n",
    "  line = [col.value for col in row]\n",
    "  if line == None:\n",
    "        break\n",
    "  if line[2] in Namelist and line[3]!='常月圆':\n",
    "    line[3]='王韵璐'\n",
    "    line[6]=xlrd.xldate.xldate_as_datetime(line[6], 0).strftime(\"%Y-%m-%d\")\n",
    "    hesuan.append(line[:7])\n",
    "    if line[6]=='2022-05-3':\n",
    "        print(line[:7])\n",
    "print(len(hesuan))"
   ]
  },
  {
   "cell_type": "code",
   "execution_count": 6,
   "id": "390da3de",
   "metadata": {},
   "outputs": [],
   "source": [
    "# 1.创建Workbook对象并设置编码（通常是设置为utf-8）\n",
    "workbook = xlwt.Workbook(encoding=\"utf-8\")\n",
    "# 2.创建一个worksheet（就是Excel最下面那个选项页）\n",
    "worksheet = workbook.add_sheet(\"MySheet\")\n",
    "biaotou = ['学院','学号','姓名','辅导员','片区','宿舍','抽检日期']\n",
    "for j in range(7):\n",
    "    worksheet.write(0, j,biaotou[j] )\n",
    "for i in range(len(hesuan)):\n",
    "    for j in range(7):\n",
    "        worksheet.write(i+1, j,hesuan[i][j] )\n",
    "    # 4.保存(后缀 xls是2003版Excel，xlsx是2017之后的，可以保存更多内容）\n",
    "workbook.save(r\"C:/Users/qhuang/Documents/Tencent Files/505023992/FileRecv/FifthExcel.xls\")"
   ]
  },
  {
   "cell_type": "code",
   "execution_count": null,
   "id": "b5357fbe",
   "metadata": {},
   "outputs": [],
   "source": []
  }
 ],
 "metadata": {
  "kernelspec": {
   "display_name": "Python 3",
   "language": "python",
   "name": "python3"
  },
  "language_info": {
   "codemirror_mode": {
    "name": "ipython",
    "version": 3
   },
   "file_extension": ".py",
   "mimetype": "text/x-python",
   "name": "python",
   "nbconvert_exporter": "python",
   "pygments_lexer": "ipython3",
   "version": "3.8.5"
  }
 },
 "nbformat": 4,
 "nbformat_minor": 5
}
