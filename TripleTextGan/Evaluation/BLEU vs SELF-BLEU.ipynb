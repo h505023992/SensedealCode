{
 "cells": [
  {
   "cell_type": "code",
   "execution_count": 1,
   "id": "2b896d4c",
   "metadata": {},
   "outputs": [],
   "source": [
    "import os\n",
    "import hydra\n",
    "import hydra.experimental\n",
    "import numpy as np\n",
    "from nltk.translate.bleu_score import corpus_bleu, sentence_bleu\n",
    "import tqdm\n",
    "import json\n",
    "import torch\n",
    "import torch.nn as nn\n",
    "import torch.nn.functional as F\n",
    "from transformers import RobertaTokenizer\n",
    "from omegaconf import DictConfig\n",
    "from fast_bleu import BLEU, SelfBLEU\n",
    "\n",
    "from torchfly.text.decode import TransformerDecoder\n",
    "from torchfly.common import set_random_seed, move_to_device\n",
    "\n",
    "from configure_dataloader import DataLoaderHandler\n",
    "\n",
    "import logging\n",
    "import dill\n",
    "import matplotlib.pyplot as plt\n",
    "import matplotlib\n",
    "matplotlib.rcParams.update({'font.size': 16})"
   ]
  },
  {
   "cell_type": "code",
   "execution_count": 2,
   "id": "3e75806e",
   "metadata": {},
   "outputs": [],
   "source": [
    "tokenizer = RobertaTokenizer.from_pretrained(\"roberta-base\")"
   ]
  },
  {
   "cell_type": "code",
   "execution_count": 3,
   "id": "3c8266df",
   "metadata": {},
   "outputs": [],
   "source": [
    "def ref_data():\n",
    "    data = []\n",
    "    with open('../StyleCaption/funny-test.txt','r') as f:\n",
    "        line = f.readline()\n",
    "        while line:\n",
    "            data.append(line.replace('\\n', '').lower())\n",
    "            line = f.readline()\n",
    "    with open('../StyleCaption/fact-test.txt','r') as f:\n",
    "        line = f.readline()\n",
    "        while line:\n",
    "            data.append(line.replace('\\n', '').lower())\n",
    "            line = f.readline()\n",
    "    \n",
    "    with open('../StyleCaption/romantic-test.txt','r') as f:\n",
    "        line = f.readline()\n",
    "        while line:\n",
    "            data.append(line.replace('\\n', '').lower())\n",
    "            line = f.readline()\n",
    "    return data"
   ]
  },
  {
   "cell_type": "code",
   "execution_count": 4,
   "id": "7f97ca71",
   "metadata": {},
   "outputs": [],
   "source": [
    "def gen_data():\n",
    "    data = []\n",
    "    with open('./funny-GEN.txt','r') as f:\n",
    "        line = f.readline()\n",
    "        while line:\n",
    "            data.append(line.replace('\\n', '').lower().replace(\"\\\"\",\"\"))\n",
    "            line = f.readline()\n",
    "    with open('./fact-GEN.txt','r') as f:\n",
    "        line = f.readline()\n",
    "        while line:\n",
    "            data.append(line.replace('\\n', '').lower().replace(\"\\\"\",\"\"))\n",
    "            line = f.readline()\n",
    "    \n",
    "    with open('./romantic-GEN.txt','r') as f:\n",
    "        line = f.readline()\n",
    "        while line:\n",
    "            data.append(line.replace('\\n', '').lower().replace(\"\\\"\",\"\"))\n",
    "            line = f.readline()\n",
    "    return data"
   ]
  },
  {
   "cell_type": "code",
   "execution_count": 64,
   "id": "acaab892",
   "metadata": {},
   "outputs": [],
   "source": [
    "ref =ref_data()\n",
    "gen = gen_data()"
   ]
  },
  {
   "cell_type": "code",
   "execution_count": 65,
   "id": "2a8f0aa8",
   "metadata": {},
   "outputs": [],
   "source": [
    "# print(gen)"
   ]
  },
  {
   "cell_type": "code",
   "execution_count": 66,
   "id": "c461ad5b",
   "metadata": {},
   "outputs": [],
   "source": [
    "# print(ref)"
   ]
  },
  {
   "cell_type": "code",
   "execution_count": 67,
   "id": "c3ff9ede",
   "metadata": {},
   "outputs": [],
   "source": [
    "ref = [tokenizer.encode(item, add_special_tokens=False) for item in ref]\n",
    "bleu = BLEU(ref, {'4gram': (0.25, 0.25, 0.25, 0.25)})"
   ]
  },
  {
   "cell_type": "code",
   "execution_count": 68,
   "id": "3accb3bb",
   "metadata": {},
   "outputs": [],
   "source": [
    "gen = [tokenizer.encode(item.lower(), add_special_tokens=False) for item in gen]"
   ]
  },
  {
   "cell_type": "code",
   "execution_count": 69,
   "id": "cfca9b75",
   "metadata": {},
   "outputs": [],
   "source": [
    "bleu_score = np.mean(bleu.get_score(gen)['4gram'])\n",
    "self_bleu = SelfBLEU(gen, {'4gram': (0.25,0.25,0.25,0.25)})\n",
    "self_bleu_score = np.mean(self_bleu.get_score()['4gram'])"
   ]
  },
  {
   "cell_type": "code",
   "execution_count": 70,
   "id": "46f70118",
   "metadata": {},
   "outputs": [
    {
     "name": "stdout",
     "output_type": "stream",
     "text": [
      "0.5407276724324203\n"
     ]
    }
   ],
   "source": [
    "print(bleu_score)"
   ]
  },
  {
   "cell_type": "code",
   "execution_count": 71,
   "id": "44bfc0e4",
   "metadata": {},
   "outputs": [
    {
     "name": "stdout",
     "output_type": "stream",
     "text": [
      "0.8208848928911244\n"
     ]
    }
   ],
   "source": [
    "print(self_bleu_score)"
   ]
  },
  {
   "cell_type": "code",
   "execution_count": null,
   "id": "f442d3ca",
   "metadata": {},
   "outputs": [],
   "source": []
  }
 ],
 "metadata": {
  "kernelspec": {
   "display_name": "Python 3",
   "language": "python",
   "name": "python3"
  },
  "language_info": {
   "codemirror_mode": {
    "name": "ipython",
    "version": 3
   },
   "file_extension": ".py",
   "mimetype": "text/x-python",
   "name": "python",
   "nbconvert_exporter": "python",
   "pygments_lexer": "ipython3",
   "version": "3.9.7"
  }
 },
 "nbformat": 4,
 "nbformat_minor": 5
}
