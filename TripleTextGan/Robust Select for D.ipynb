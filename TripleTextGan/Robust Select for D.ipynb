{
 "cells": [
  {
   "cell_type": "code",
   "execution_count": 17,
   "id": "f650e6e1",
   "metadata": {},
   "outputs": [],
   "source": [
    "import torch\n",
    "import math"
   ]
  },
  {
   "cell_type": "code",
   "execution_count": 32,
   "id": "68bf2aaf",
   "metadata": {},
   "outputs": [],
   "source": [
    "r = torch.tensor([-0.02,0.03,-0.01])"
   ]
  },
  {
   "cell_type": "code",
   "execution_count": 33,
   "id": "7ff6817d",
   "metadata": {},
   "outputs": [
    {
     "name": "stdout",
     "output_type": "stream",
     "text": [
      "tensor(-0.0200)\n",
      "tensor(0.)\n"
     ]
    }
   ],
   "source": [
    "r_min = torch.min(r)\n",
    "r_mid = r.mean()\n",
    "print(r_min)\n",
    "print(r_mid)"
   ]
  },
  {
   "cell_type": "code",
   "execution_count": 34,
   "id": "b528fd1f",
   "metadata": {},
   "outputs": [],
   "source": [
    "N = 5\n",
    "N_pre = 2"
   ]
  },
  {
   "cell_type": "code",
   "execution_count": 35,
   "id": "19e165d4",
   "metadata": {},
   "outputs": [
    {
     "name": "stdout",
     "output_type": "stream",
     "text": [
      "tensor(0.0080)\n",
      "tensor([0.4930, 0.5055, 0.4955])\n",
      "tensor(0.0040)\n",
      "tensor([0.4940, 0.5065, 0.4965])\n",
      "tensor(0.)\n",
      "tensor([0.4950, 0.5075, 0.4975])\n",
      "tensor(-0.0040)\n",
      "tensor([0.4960, 0.5085, 0.4985])\n",
      "tensor(-0.0080)\n",
      "tensor([0.4970, 0.5095, 0.4995])\n"
     ]
    }
   ],
   "source": [
    "for j in range(N):\n",
    "    k_j = r_mid-math.pow((j-N_pre)/N,1)*(r_mid-r_min)\n",
    "    w = 1/(1+torch.exp(k_j-r))\n",
    "    print(k_j)\n",
    "    print(w)"
   ]
  },
  {
   "cell_type": "code",
   "execution_count": null,
   "id": "7fba376e",
   "metadata": {},
   "outputs": [],
   "source": []
  }
 ],
 "metadata": {
  "kernelspec": {
   "display_name": "Python 3",
   "language": "python",
   "name": "python3"
  },
  "language_info": {
   "codemirror_mode": {
    "name": "ipython",
    "version": 3
   },
   "file_extension": ".py",
   "mimetype": "text/x-python",
   "name": "python",
   "nbconvert_exporter": "python",
   "pygments_lexer": "ipython3",
   "version": "3.9.7"
  }
 },
 "nbformat": 4,
 "nbformat_minor": 5
}
